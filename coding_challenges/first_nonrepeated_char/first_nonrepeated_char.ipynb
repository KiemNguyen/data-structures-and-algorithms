{
 "cells": [
  {
   "cell_type": "markdown",
   "metadata": {},
   "source": [
    "## Problem: Write an efficient function to find the first nonrepeated character in a string."
   ]
  },
  {
   "cell_type": "markdown",
   "metadata": {},
   "source": [
    "## Algorithm \n",
    "### Iterative\n",
    "Complexity:\n",
    "- Time: O(n)\n",
    "- Memory: O(1)"
   ]
  },
  {
   "cell_type": "markdown",
   "metadata": {},
   "source": [
    "## Code"
   ]
  },
  {
   "cell_type": "code",
   "execution_count": 58,
   "metadata": {
    "collapsed": false
   },
   "outputs": [],
   "source": [
    "class Solution(object):\n",
    "\n",
    "    def nonerepeated_char(self, str):\n",
    "        char_seen = {}\n",
    "\n",
    "        # For each character, if no value is stored in the dictionary then store 1\n",
    "        # Otherwise, increase value in the dictionary\n",
    "        for char in str:\n",
    "            if char not in char_seen:\n",
    "                char_seen[char] = 1\n",
    "            else:\n",
    "                char_seen[char] += 1\n",
    "\n",
    "        # Scan the string.\n",
    "        # For each character, return character if count in dictionary is 1\n",
    "        # If no character have count 1, return None\n",
    "        for char in str:\n",
    "            if char_seen[char] == 1:\n",
    "                return char\n",
    "\n",
    "        return None"
   ]
  },
  {
   "cell_type": "markdown",
   "metadata": {},
   "source": [
    "## Unit Test"
   ]
  },
  {
   "cell_type": "code",
   "execution_count": 59,
   "metadata": {
    "collapsed": false
   },
   "outputs": [
    {
     "name": "stdout",
     "output_type": "stream",
     "text": [
      "Overwriting test_nonerepeated_char.py\n"
     ]
    }
   ],
   "source": [
    "%%writefile test_nonerepeated_char.py\n",
    "from nose.tools import assert_equal, assert_raises\n",
    "\n",
    "class TestNonerepeatedChar(object):\n",
    "    \n",
    "    def test_nonerepeated_char(self):\n",
    "        solution = Solution()\n",
    "        str = \"total\"\n",
    "        expected = \"o\"\n",
    "        assert_equal(solution.nonerepeated_char(str), expected)\n",
    "        print('Success: test_nonerepeated_char')\n",
    "\n",
    "def main():\n",
    "    test = TestNonerepeatedChar()\n",
    "    test.test_nonerepeated_char()\n",
    "    \n",
    "if __name__ == '__main__':\n",
    "    main()"
   ]
  },
  {
   "cell_type": "code",
   "execution_count": 60,
   "metadata": {
    "collapsed": false
   },
   "outputs": [
    {
     "name": "stdout",
     "output_type": "stream",
     "text": [
      "Success: test_nonerepeated_char\n"
     ]
    }
   ],
   "source": [
    "%run -i test_nonerepeated_char.py"
   ]
  },
  {
   "cell_type": "code",
   "execution_count": null,
   "metadata": {
    "collapsed": true
   },
   "outputs": [],
   "source": []
  }
 ],
 "metadata": {
  "kernelspec": {
   "display_name": "Python 3",
   "language": "python",
   "name": "python3"
  },
  "language_info": {
   "codemirror_mode": {
    "name": "ipython",
    "version": 3
   },
   "file_extension": ".py",
   "mimetype": "text/x-python",
   "name": "python",
   "nbconvert_exporter": "python",
   "pygments_lexer": "ipython3",
   "version": "3.6.0"
  }
 },
 "nbformat": 4,
 "nbformat_minor": 2
}
