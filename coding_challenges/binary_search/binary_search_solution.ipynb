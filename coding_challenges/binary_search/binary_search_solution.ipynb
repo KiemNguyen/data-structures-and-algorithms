{
 "cells": [
  {
   "cell_type": "markdown",
   "metadata": {},
   "source": [
    "## Problem: Given a sorted array of integers, return the index of the given key. Return -1 if not found."
   ]
  },
  {
   "cell_type": "markdown",
   "metadata": {},
   "source": [
    "## Algorithm \n",
    "### Iterative\n",
    "Complexity:\n",
    "- Time: O(logn)\n",
    "- Memory: O(1)"
   ]
  },
  {
   "cell_type": "markdown",
   "metadata": {},
   "source": [
    "## Code"
   ]
  },
  {
   "cell_type": "code",
   "execution_count": 6,
   "metadata": {
    "collapsed": false
   },
   "outputs": [],
   "source": [
    "class Solution(object):\n",
    "\n",
    "    def binary_search(self, a, key):\n",
    "        low = 0\n",
    "        high = len(a) - 1\n",
    "        \n",
    "        if a is None or key is None:\n",
    "            raise TypeError('a or key cannot be None')\n",
    "        if not key:\n",
    "            raise ValueError('key cannot be empty')\n",
    "        cahce = {}\n",
    "    \n",
    "        while low <= high:\n",
    "            mid = int(low + ((high - low) / 2))\n",
    "            if a[mid] == key:\n",
    "                return mid\n",
    "            if key > a[mid]:\n",
    "                low = mid + 1\n",
    "            if key < a[mid]:\n",
    "                high = mid - 1\n",
    "        return -1"
   ]
  },
  {
   "cell_type": "markdown",
   "metadata": {},
   "source": [
    "## Unit Test"
   ]
  },
  {
   "cell_type": "code",
   "execution_count": 7,
   "metadata": {
    "collapsed": false
   },
   "outputs": [
    {
     "name": "stdout",
     "output_type": "stream",
     "text": [
      "Overwriting test_binary_search.py\n"
     ]
    }
   ],
   "source": [
    "%%writefile test_binary_search.py\n",
    "from nose.tools import assert_equal, assert_raises\n",
    "\n",
    "class TestBinarySearch(object):\n",
    "    \n",
    "    def test_binary_search(self):\n",
    "        solution = Solution()\n",
    "        assert_raises(TypeError, solution.binary_search, None, None)\n",
    "        assert_raises(ValueError, solution.binary_search, [], 0)\n",
    "        a = [1, 10, 20, 47, 59, 63, 75, 88, 99]\n",
    "        key = 20\n",
    "        expected = 2\n",
    "        assert_equal(solution.binary_search(a, key), expected)\n",
    "        print('Success: test_binary_search')\n",
    "\n",
    "def main():\n",
    "    test = TestBinarySearch()\n",
    "    test.test_binary_search()\n",
    "    \n",
    "if __name__ == '__main__':\n",
    "    main()"
   ]
  },
  {
   "cell_type": "code",
   "execution_count": 8,
   "metadata": {
    "collapsed": false
   },
   "outputs": [
    {
     "name": "stdout",
     "output_type": "stream",
     "text": [
      "Success: test_binary_search\n"
     ]
    }
   ],
   "source": [
    "%run -i test_binary_search.py"
   ]
  }
 ],
 "metadata": {
  "kernelspec": {
   "display_name": "Python 3",
   "language": "python",
   "name": "python3"
  },
  "language_info": {
   "codemirror_mode": {
    "name": "ipython",
    "version": 3
   },
   "file_extension": ".py",
   "mimetype": "text/x-python",
   "name": "python",
   "nbconvert_exporter": "python",
   "pygments_lexer": "ipython3",
   "version": "3.6.0"
  }
 },
 "nbformat": 4,
 "nbformat_minor": 2
}
